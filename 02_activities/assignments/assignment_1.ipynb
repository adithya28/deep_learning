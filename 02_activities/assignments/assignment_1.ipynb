{
 "cells": [
  {
   "cell_type": "markdown",
   "id": "ba8ab56f",
   "metadata": {},
   "source": [
    "# Advanced Image Classification with ImageNet"
   ]
  },
  {
   "cell_type": "markdown",
   "id": "7c630244b8fe2847",
   "metadata": {
    "collapsed": false
   },
   "source": [
    "In this assignment, you will be asked to develop a convolutional neural network (CNN) to classify images from the CIFAR-100 dataset. At each step, you'll be guided through the process of developing a model architecture to solve a problem. Your goal is to create a CNN that attains at least 55% accuracy on the validation set.\n",
    "\n",
    "### The CIFAR-100 Dataset\n",
    "\n",
    "The [CIFAR-100 dataset](https://www.cs.toronto.edu/~kriz/cifar.html) consists of 60000 32x32 colour images in 100 classes, with 600 images per class. There are 50000 training images and 10000 test images. The dataset is divided into five training batches and one test batch, each with 10000 images. The test batch contains exactly 1000 randomly-selected images from each class. The training batches contain the remaining images in random order, but some training batches may contain more images from one class than another. Between them, the training batches contain exactly 500 images from each class.\n",
    "\n",
    "### Tools\n",
    "\n",
    "You will use Keras with TensorFlow to develop your CNN. For this assignment, it's strongly recommended that you use a GPU to accelerate your training, or else you might find it difficult to train your network in a reasonable amount of time. If you have a computer with a GPU that you wish to use, you can follow the [TensorFlow instructions](https://www.tensorflow.org/install/) for installing TensorFlow with GPU support. Otherwise, you can use [Google Colab](https://colab.research.google.com/) to complete this assignment. Colab provides free access to GPU-enabled machines. If you run into any issues, please contact us as soon as possible so that we can help you resolve them."
   ]
  },
  {
   "cell_type": "markdown",
   "id": "fab62988ece1528d",
   "metadata": {
    "collapsed": false
   },
   "source": [
    "## Task 1: Data Exploration and Preprocessing (Complete or Incomplete)\n",
    "### 1a: Load and Explore the Dataset\n",
    "- Use the code below to download the dataset.\n",
    "- Explore the dataset: examine the shape of the training and test sets, the dimensions of the images, and the number of classes. Show a few examples from the training set."
   ]
  },
  {
   "cell_type": "code",
   "execution_count": 1,
   "id": "8820fcdc5ae52ae2",
   "metadata": {
    "collapsed": false,
    "ExecuteTime": {
     "end_time": "2024-08-08T01:33:12.280510500Z",
     "start_time": "2024-08-08T01:33:05.203590900Z"
    }
   },
   "outputs": [
    {
     "name": "stdout",
     "output_type": "stream",
     "text": [
      "Num GPUs Available:  0\n"
     ]
    }
   ],
   "source": [
    "from keras.datasets import cifar100\n",
    "import numpy as np\n",
    "import pandas as pd\n",
    "import tensorflow as tf \n",
    "\n",
    "# Load the CIFAR-100 dataset\n",
    "print(\"Num GPUs Available: \", len(tf.config.list_physical_devices('GPU')))\n",
    "(x_train, y_train), (x_val, y_val) = cifar100.load_data(label_mode='fine')"
   ]
  },
  {
   "cell_type": "code",
   "execution_count": 2,
   "id": "a386b4072078138f",
   "metadata": {
    "collapsed": false,
    "ExecuteTime": {
     "end_time": "2024-08-08T01:33:12.293994300Z",
     "start_time": "2024-08-08T01:33:12.280510500Z"
    }
   },
   "outputs": [
    {
     "name": "stdout",
     "output_type": "stream",
     "text": [
      "Image shape: (32, 32, 3)\n",
      "Number of classes: 100\n",
      "label\n",
      "19    500\n",
      "69    500\n",
      "88    500\n",
      "32    500\n",
      "34    500\n",
      "     ... \n",
      "81    500\n",
      "22    500\n",
      "21    500\n",
      "65    500\n",
      "16    500\n",
      "Name: count, Length: 100, dtype: int64\n"
     ]
    }
   ],
   "source": [
    "\n",
    "# The dimensions of the images\n",
    "image_shape = x_train.shape[1:]\n",
    "print(f\"Image shape: {image_shape}\")  # (32, 32, 3)\n",
    "\n",
    "num_classes = len(np.unique(y_train))\n",
    "print(f\"Number of classes: {num_classes}\")  # 100\n",
    "\n",
    "\n",
    "train_df = pd.DataFrame({\n",
    "    'image': list(x_train),\n",
    "    'label': y_train.flatten()\n",
    "})\n",
    "\n",
    "# Check the distribution of labels in the training set\n",
    "print(train_df['label'].value_counts())"
   ]
  },
  {
   "cell_type": "markdown",
   "id": "ad49291da3a819ea",
   "metadata": {
    "collapsed": false
   },
   "source": [
    "### 1b: Data Preprocessing (4 Marks)\n",
    "- With the data downloaded, it's time to preprocess it. Start by normalizing the images so that they all have pixel values in the range [0, 1].\n",
    "- Next, convert the labels to one-hot encoded vectors.\n",
    "- Finally, split the training set into training and validation sets. Use 80% of the training set for training and the remaining 20% for validation."
   ]
  },
  {
   "cell_type": "code",
   "execution_count": 3,
   "id": "b18c10172fa72d0c",
   "metadata": {
    "collapsed": false,
    "ExecuteTime": {
     "end_time": "2024-08-08T01:33:13.895555100Z",
     "start_time": "2024-08-08T01:33:12.294994500Z"
    }
   },
   "outputs": [],
   "source": [
    "from keras.src.legacy.preprocessing.image import ImageDataGenerator\n",
    "from tensorflow.keras.utils import to_categorical\n",
    "from sklearn.model_selection import train_test_split\n",
    "\n",
    "datagen = ImageDataGenerator(rescale=1.0/255.0)\n",
    "\n",
    "y_train = to_categorical(y_train, 100)\n",
    "y_val = to_categorical(y_val, 100)\n",
    "\n",
    "# Apply normalization to training and validation sets using ImageDataGenerator\n",
    "train_datagen = datagen.flow(x_train, y_train, batch_size=64)\n",
    "val_datagen = datagen.flow(x_val, y_val, batch_size=64)\n"
   ]
  },
  {
   "cell_type": "markdown",
   "id": "5993757f08c89db7",
   "metadata": {
    "collapsed": false
   },
   "source": [
    "## Task 2: Model Development (Complete or Incomplete)\n",
    "### Task 2a: Create a Baseline CNN Model\n",
    "- Design a CNN architecture. Your architecture should use convolutional layers, max pooling layers, and dense layers. You can use any number of layers, and you can experiment with different numbers of filters, filter sizes, strides, padding, etc. The design doesn't need to be perfect, but it should be unique to you.\n",
    "- Print out the model summary."
   ]
  },
  {
   "cell_type": "code",
   "execution_count": 4,
   "id": "c9edafdaf887b8d5",
   "metadata": {
    "collapsed": false,
    "ExecuteTime": {
     "end_time": "2024-08-08T01:33:13.900969700Z",
     "start_time": "2024-08-08T01:33:13.895555100Z"
    }
   },
   "outputs": [],
   "source": [
    "from keras.models import Sequential\n",
    "from keras.layers import Conv2D, MaxPooling2D, Flatten, Dense\n",
    "\n",
    "from tensorflow.keras.optimizers import Adam\n",
    "def create():\n",
    "    model = Sequential()\n",
    "    model.add(Conv2D(32, (3, 3),kernel_initializer='he_uniform', input_shape=(32, 32, 3)))\n",
    "    model.add(MaxPooling2D((2, 2)))\n",
    "    model.add(Flatten())\n",
    "    model.add(Dense(128, activation='relu'))\n",
    "    model.add(Dense(128, activation='elu'))\n",
    "    model.add(Dense(100, activation='softmax'))\n",
    "\n",
    "    model.compile(optimizer=Adam(),\n",
    "              loss='categorical_crossentropy',\n",
    "              metrics=['accuracy'])\n",
    "    return model\n",
    "\n",
    "\n"
   ]
  },
  {
   "cell_type": "markdown",
   "id": "546324c007c73db5",
   "metadata": {
    "collapsed": false
   },
   "source": [
    "### Task 2b: Compile the model\n",
    "\n",
    "- Select an appropriate loss function and optimizer for your model. These can be ones we have looked at already, or they can be different. \n",
    "- Briefly explain your choices (one or two sentences each).\n",
    "- <b>Loss function:</b> ______\n",
    "- <b>Optimizer:</b> ______"
   ]
  },
  {
   "cell_type": "code",
   "execution_count": 5,
   "id": "ab39f4ba69d684e9",
   "metadata": {
    "collapsed": false,
    "ExecuteTime": {
     "end_time": "2024-08-08T01:33:55.798891100Z",
     "start_time": "2024-08-08T01:33:13.901972500Z"
    }
   },
   "outputs": [
    {
     "name": "stderr",
     "output_type": "stream",
     "text": [
      "C:\\Users\\Administrator\\AppData\\Local\\Programs\\Python\\Python311\\Lib\\site-packages\\keras\\src\\layers\\convolutional\\base_conv.py:107: UserWarning: Do not pass an `input_shape`/`input_dim` argument to a layer. When using Sequential models, prefer using an `Input(shape)` object as the first layer in the model instead.\n",
      "  super().__init__(activity_regularizer=activity_regularizer, **kwargs)\n"
     ]
    },
    {
     "data": {
      "text/plain": "\u001B[1mModel: \"sequential\"\u001B[0m\n",
      "text/html": "<pre style=\"white-space:pre;overflow-x:auto;line-height:normal;font-family:Menlo,'DejaVu Sans Mono',consolas,'Courier New',monospace\"><span style=\"font-weight: bold\">Model: \"sequential\"</span>\n</pre>\n"
     },
     "metadata": {},
     "output_type": "display_data"
    },
    {
     "data": {
      "text/plain": "┏━━━━━━━━━━━━━━━━━━━━━━━━━━━━━━━━━┳━━━━━━━━━━━━━━━━━━━━━━━━┳━━━━━━━━━━━━━━━┓\n┃\u001B[1m \u001B[0m\u001B[1mLayer (type)                   \u001B[0m\u001B[1m \u001B[0m┃\u001B[1m \u001B[0m\u001B[1mOutput Shape          \u001B[0m\u001B[1m \u001B[0m┃\u001B[1m \u001B[0m\u001B[1m      Param #\u001B[0m\u001B[1m \u001B[0m┃\n┡━━━━━━━━━━━━━━━━━━━━━━━━━━━━━━━━━╇━━━━━━━━━━━━━━━━━━━━━━━━╇━━━━━━━━━━━━━━━┩\n│ conv2d (\u001B[38;5;33mConv2D\u001B[0m)                 │ (\u001B[38;5;45mNone\u001B[0m, \u001B[38;5;34m30\u001B[0m, \u001B[38;5;34m30\u001B[0m, \u001B[38;5;34m32\u001B[0m)     │           \u001B[38;5;34m896\u001B[0m │\n├─────────────────────────────────┼────────────────────────┼───────────────┤\n│ max_pooling2d (\u001B[38;5;33mMaxPooling2D\u001B[0m)    │ (\u001B[38;5;45mNone\u001B[0m, \u001B[38;5;34m15\u001B[0m, \u001B[38;5;34m15\u001B[0m, \u001B[38;5;34m32\u001B[0m)     │             \u001B[38;5;34m0\u001B[0m │\n├─────────────────────────────────┼────────────────────────┼───────────────┤\n│ flatten (\u001B[38;5;33mFlatten\u001B[0m)               │ (\u001B[38;5;45mNone\u001B[0m, \u001B[38;5;34m7200\u001B[0m)           │             \u001B[38;5;34m0\u001B[0m │\n├─────────────────────────────────┼────────────────────────┼───────────────┤\n│ dense (\u001B[38;5;33mDense\u001B[0m)                   │ (\u001B[38;5;45mNone\u001B[0m, \u001B[38;5;34m128\u001B[0m)            │       \u001B[38;5;34m921,728\u001B[0m │\n├─────────────────────────────────┼────────────────────────┼───────────────┤\n│ dense_1 (\u001B[38;5;33mDense\u001B[0m)                 │ (\u001B[38;5;45mNone\u001B[0m, \u001B[38;5;34m128\u001B[0m)            │        \u001B[38;5;34m16,512\u001B[0m │\n├─────────────────────────────────┼────────────────────────┼───────────────┤\n│ dense_2 (\u001B[38;5;33mDense\u001B[0m)                 │ (\u001B[38;5;45mNone\u001B[0m, \u001B[38;5;34m100\u001B[0m)            │        \u001B[38;5;34m12,900\u001B[0m │\n└─────────────────────────────────┴────────────────────────┴───────────────┘\n",
      "text/html": "<pre style=\"white-space:pre;overflow-x:auto;line-height:normal;font-family:Menlo,'DejaVu Sans Mono',consolas,'Courier New',monospace\">┏━━━━━━━━━━━━━━━━━━━━━━━━━━━━━━━━━┳━━━━━━━━━━━━━━━━━━━━━━━━┳━━━━━━━━━━━━━━━┓\n┃<span style=\"font-weight: bold\"> Layer (type)                    </span>┃<span style=\"font-weight: bold\"> Output Shape           </span>┃<span style=\"font-weight: bold\">       Param # </span>┃\n┡━━━━━━━━━━━━━━━━━━━━━━━━━━━━━━━━━╇━━━━━━━━━━━━━━━━━━━━━━━━╇━━━━━━━━━━━━━━━┩\n│ conv2d (<span style=\"color: #0087ff; text-decoration-color: #0087ff\">Conv2D</span>)                 │ (<span style=\"color: #00d7ff; text-decoration-color: #00d7ff\">None</span>, <span style=\"color: #00af00; text-decoration-color: #00af00\">30</span>, <span style=\"color: #00af00; text-decoration-color: #00af00\">30</span>, <span style=\"color: #00af00; text-decoration-color: #00af00\">32</span>)     │           <span style=\"color: #00af00; text-decoration-color: #00af00\">896</span> │\n├─────────────────────────────────┼────────────────────────┼───────────────┤\n│ max_pooling2d (<span style=\"color: #0087ff; text-decoration-color: #0087ff\">MaxPooling2D</span>)    │ (<span style=\"color: #00d7ff; text-decoration-color: #00d7ff\">None</span>, <span style=\"color: #00af00; text-decoration-color: #00af00\">15</span>, <span style=\"color: #00af00; text-decoration-color: #00af00\">15</span>, <span style=\"color: #00af00; text-decoration-color: #00af00\">32</span>)     │             <span style=\"color: #00af00; text-decoration-color: #00af00\">0</span> │\n├─────────────────────────────────┼────────────────────────┼───────────────┤\n│ flatten (<span style=\"color: #0087ff; text-decoration-color: #0087ff\">Flatten</span>)               │ (<span style=\"color: #00d7ff; text-decoration-color: #00d7ff\">None</span>, <span style=\"color: #00af00; text-decoration-color: #00af00\">7200</span>)           │             <span style=\"color: #00af00; text-decoration-color: #00af00\">0</span> │\n├─────────────────────────────────┼────────────────────────┼───────────────┤\n│ dense (<span style=\"color: #0087ff; text-decoration-color: #0087ff\">Dense</span>)                   │ (<span style=\"color: #00d7ff; text-decoration-color: #00d7ff\">None</span>, <span style=\"color: #00af00; text-decoration-color: #00af00\">128</span>)            │       <span style=\"color: #00af00; text-decoration-color: #00af00\">921,728</span> │\n├─────────────────────────────────┼────────────────────────┼───────────────┤\n│ dense_1 (<span style=\"color: #0087ff; text-decoration-color: #0087ff\">Dense</span>)                 │ (<span style=\"color: #00d7ff; text-decoration-color: #00d7ff\">None</span>, <span style=\"color: #00af00; text-decoration-color: #00af00\">128</span>)            │        <span style=\"color: #00af00; text-decoration-color: #00af00\">16,512</span> │\n├─────────────────────────────────┼────────────────────────┼───────────────┤\n│ dense_2 (<span style=\"color: #0087ff; text-decoration-color: #0087ff\">Dense</span>)                 │ (<span style=\"color: #00d7ff; text-decoration-color: #00d7ff\">None</span>, <span style=\"color: #00af00; text-decoration-color: #00af00\">100</span>)            │        <span style=\"color: #00af00; text-decoration-color: #00af00\">12,900</span> │\n└─────────────────────────────────┴────────────────────────┴───────────────┘\n</pre>\n"
     },
     "metadata": {},
     "output_type": "display_data"
    },
    {
     "data": {
      "text/plain": "\u001B[1m Total params: \u001B[0m\u001B[38;5;34m952,036\u001B[0m (3.63 MB)\n",
      "text/html": "<pre style=\"white-space:pre;overflow-x:auto;line-height:normal;font-family:Menlo,'DejaVu Sans Mono',consolas,'Courier New',monospace\"><span style=\"font-weight: bold\"> Total params: </span><span style=\"color: #00af00; text-decoration-color: #00af00\">952,036</span> (3.63 MB)\n</pre>\n"
     },
     "metadata": {},
     "output_type": "display_data"
    },
    {
     "data": {
      "text/plain": "\u001B[1m Trainable params: \u001B[0m\u001B[38;5;34m952,036\u001B[0m (3.63 MB)\n",
      "text/html": "<pre style=\"white-space:pre;overflow-x:auto;line-height:normal;font-family:Menlo,'DejaVu Sans Mono',consolas,'Courier New',monospace\"><span style=\"font-weight: bold\"> Trainable params: </span><span style=\"color: #00af00; text-decoration-color: #00af00\">952,036</span> (3.63 MB)\n</pre>\n"
     },
     "metadata": {},
     "output_type": "display_data"
    },
    {
     "data": {
      "text/plain": "\u001B[1m Non-trainable params: \u001B[0m\u001B[38;5;34m0\u001B[0m (0.00 B)\n",
      "text/html": "<pre style=\"white-space:pre;overflow-x:auto;line-height:normal;font-family:Menlo,'DejaVu Sans Mono',consolas,'Courier New',monospace\"><span style=\"font-weight: bold\"> Non-trainable params: </span><span style=\"color: #00af00; text-decoration-color: #00af00\">0</span> (0.00 B)\n</pre>\n"
     },
     "metadata": {},
     "output_type": "display_data"
    },
    {
     "name": "stdout",
     "output_type": "stream",
     "text": [
      "Epoch 1/10\n",
      "\u001B[1m1563/1563\u001B[0m \u001B[32m━━━━━━━━━━━━━━━━━━━━\u001B[0m\u001B[37m\u001B[0m \u001B[1m5s\u001B[0m 3ms/step - accuracy: 0.0097 - loss: 47.5693 - val_accuracy: 0.0099 - val_loss: 4.6056\n",
      "Epoch 2/10\n",
      "\u001B[1m1563/1563\u001B[0m \u001B[32m━━━━━━━━━━━━━━━━━━━━\u001B[0m\u001B[37m\u001B[0m \u001B[1m4s\u001B[0m 2ms/step - accuracy: 0.0103 - loss: 4.6065 - val_accuracy: 0.0100 - val_loss: 4.6056\n",
      "Epoch 3/10\n",
      "\u001B[1m1563/1563\u001B[0m \u001B[32m━━━━━━━━━━━━━━━━━━━━\u001B[0m\u001B[37m\u001B[0m \u001B[1m4s\u001B[0m 3ms/step - accuracy: 0.0094 - loss: 4.6064 - val_accuracy: 0.0100 - val_loss: 4.6056\n",
      "Epoch 4/10\n",
      "\u001B[1m1563/1563\u001B[0m \u001B[32m━━━━━━━━━━━━━━━━━━━━\u001B[0m\u001B[37m\u001B[0m \u001B[1m4s\u001B[0m 2ms/step - accuracy: 0.0092 - loss: 4.6065 - val_accuracy: 0.0100 - val_loss: 4.6055\n",
      "Epoch 5/10\n",
      "\u001B[1m1563/1563\u001B[0m \u001B[32m━━━━━━━━━━━━━━━━━━━━\u001B[0m\u001B[37m\u001B[0m \u001B[1m4s\u001B[0m 3ms/step - accuracy: 0.0091 - loss: 4.6063 - val_accuracy: 0.0100 - val_loss: 4.6054\n",
      "Epoch 6/10\n",
      "\u001B[1m1563/1563\u001B[0m \u001B[32m━━━━━━━━━━━━━━━━━━━━\u001B[0m\u001B[37m\u001B[0m \u001B[1m4s\u001B[0m 3ms/step - accuracy: 0.0097 - loss: 4.6064 - val_accuracy: 0.0100 - val_loss: 4.6055\n",
      "Epoch 7/10\n",
      "\u001B[1m1563/1563\u001B[0m \u001B[32m━━━━━━━━━━━━━━━━━━━━\u001B[0m\u001B[37m\u001B[0m \u001B[1m4s\u001B[0m 3ms/step - accuracy: 0.0104 - loss: 4.6062 - val_accuracy: 0.0100 - val_loss: 4.6055\n",
      "Epoch 8/10\n",
      "\u001B[1m1563/1563\u001B[0m \u001B[32m━━━━━━━━━━━━━━━━━━━━\u001B[0m\u001B[37m\u001B[0m \u001B[1m4s\u001B[0m 3ms/step - accuracy: 0.0099 - loss: 4.6063 - val_accuracy: 0.0100 - val_loss: 4.6056\n",
      "Epoch 9/10\n",
      "\u001B[1m1563/1563\u001B[0m \u001B[32m━━━━━━━━━━━━━━━━━━━━\u001B[0m\u001B[37m\u001B[0m \u001B[1m4s\u001B[0m 3ms/step - accuracy: 0.0089 - loss: 4.6062 - val_accuracy: 0.0100 - val_loss: 4.6056\n",
      "Epoch 10/10\n",
      "\u001B[1m1563/1563\u001B[0m \u001B[32m━━━━━━━━━━━━━━━━━━━━\u001B[0m\u001B[37m\u001B[0m \u001B[1m4s\u001B[0m 3ms/step - accuracy: 0.0097 - loss: 4.6061 - val_accuracy: 0.0100 - val_loss: 4.6055\n",
      "\u001B[1m313/313\u001B[0m \u001B[32m━━━━━━━━━━━━━━━━━━━━\u001B[0m\u001B[37m\u001B[0m \u001B[1m0s\u001B[0m 904us/step - accuracy: 0.0108 - loss: 4.6053\n"
     ]
    }
   ],
   "source": [
    "from keras import optimizers\n",
    "\n",
    "model=create()\n",
    "model.summary()\n",
    "\n",
    "model.fit(train_datagen.x, train_datagen.y, epochs=10, batch_size=32, validation_data=(x_val, y_val))\n",
    "\n",
    "test_loss, test_acc = model.evaluate(x_val, y_val)\n"
   ]
  },
  {
   "cell_type": "markdown",
   "id": "653fba928413b9f6",
   "metadata": {
    "collapsed": false
   },
   "source": [
    "## Task 3: Model Training and Evaluation (Complete or Incomplete)\n",
    "### Task 3a: Train the Model\n",
    "\n",
    "- Train your model for an appropriate number of epochs. Explain your choice of the number of epochs used - you can change this number before submitting your assignment.\n",
    "- Use a batch size of 32.\n",
    "- Use the validation set for validation."
   ]
  },
  {
   "cell_type": "code",
   "execution_count": 6,
   "id": "9de74f274ad08546",
   "metadata": {
    "collapsed": false,
    "ExecuteTime": {
     "end_time": "2024-08-08T01:33:56.260767500Z",
     "start_time": "2024-08-08T01:33:55.799892Z"
    }
   },
   "outputs": [
    {
     "name": "stdout",
     "output_type": "stream",
     "text": [
      "\u001B[1m313/313\u001B[0m \u001B[32m━━━━━━━━━━━━━━━━━━━━\u001B[0m\u001B[37m\u001B[0m \u001B[1m0s\u001B[0m 994us/step\n"
     ]
    }
   ],
   "source": [
    "from sklearn.metrics import classification_report, accuracy_score\n",
    "y_pred = model.predict(x_val)\n",
    "y_pred_classes = y_pred.argmax(axis=1)\n",
    "y_true_classes = y_val.argmax(axis=1)\n",
    "\n",
    "accuracy = accuracy_score(y_true_classes, y_pred_classes)\n",
    "\n",
    "\n"
   ]
  },
  {
   "cell_type": "markdown",
   "id": "b48615c26b99d2e9",
   "metadata": {
    "collapsed": false
   },
   "source": [
    "### Task 3b: Accuracy and other relevant metrics on the test set\n",
    "\n",
    "- Report the accuracy of your model on the test set.\n",
    "- While accuracy is a good metric, there are many other ways to numerically evaluate a model. Report at least one other metric, and explain what it measures and how it is calculated.\n",
    "\n",
    "- <b>Accuracy:</b> ______\n",
    "- <b>Other metric:</b> ______\n",
    "- <b>Reason for selection:</b> _____\n",
    "- <b>Value of metric:</b> ______\n",
    "- <b>Interpretation of metric value:</b> ______"
   ]
  },
  {
   "cell_type": "code",
   "execution_count": 7,
   "id": "f670665fda92fb0e",
   "metadata": {
    "collapsed": false,
    "ExecuteTime": {
     "end_time": "2024-08-08T01:33:56.293919100Z",
     "start_time": "2024-08-08T01:33:56.261767100Z"
    }
   },
   "outputs": [
    {
     "name": "stdout",
     "output_type": "stream",
     "text": [
      "Accuracy: 0.01\n",
      "Classification Report:\n",
      "               precision    recall  f1-score   support\n",
      "\n",
      "           0       0.00      0.00      0.00       100\n",
      "           1       0.00      0.00      0.00       100\n",
      "           2       0.00      0.00      0.00       100\n",
      "           3       0.00      0.00      0.00       100\n",
      "           4       0.00      0.00      0.00       100\n",
      "           5       0.00      0.00      0.00       100\n",
      "           6       0.00      0.00      0.00       100\n",
      "           7       0.00      0.00      0.00       100\n",
      "           8       0.00      0.00      0.00       100\n",
      "           9       0.00      0.00      0.00       100\n",
      "          10       0.00      0.00      0.00       100\n",
      "          11       0.00      0.00      0.00       100\n",
      "          12       0.00      0.00      0.00       100\n",
      "          13       0.00      0.00      0.00       100\n",
      "          14       0.00      0.00      0.00       100\n",
      "          15       0.00      0.00      0.00       100\n",
      "          16       0.00      0.00      0.00       100\n",
      "          17       0.00      0.00      0.00       100\n",
      "          18       0.00      0.00      0.00       100\n",
      "          19       0.00      0.00      0.00       100\n",
      "          20       0.00      0.00      0.00       100\n",
      "          21       0.00      0.00      0.00       100\n",
      "          22       0.00      0.00      0.00       100\n",
      "          23       0.00      0.00      0.00       100\n",
      "          24       0.00      0.00      0.00       100\n",
      "          25       0.00      0.00      0.00       100\n",
      "          26       0.00      0.00      0.00       100\n",
      "          27       0.00      0.00      0.00       100\n",
      "          28       0.00      0.00      0.00       100\n",
      "          29       0.00      0.00      0.00       100\n",
      "          30       0.00      0.00      0.00       100\n",
      "          31       0.00      0.00      0.00       100\n",
      "          32       0.00      0.00      0.00       100\n",
      "          33       0.00      0.00      0.00       100\n",
      "          34       0.00      0.00      0.00       100\n",
      "          35       0.00      0.00      0.00       100\n",
      "          36       0.00      0.00      0.00       100\n",
      "          37       0.00      0.00      0.00       100\n",
      "          38       0.00      0.00      0.00       100\n",
      "          39       0.00      0.00      0.00       100\n",
      "          40       0.00      0.00      0.00       100\n",
      "          41       0.00      0.00      0.00       100\n",
      "          42       0.00      0.00      0.00       100\n",
      "          43       0.00      0.00      0.00       100\n",
      "          44       0.00      0.00      0.00       100\n",
      "          45       0.00      0.00      0.00       100\n",
      "          46       0.00      0.00      0.00       100\n",
      "          47       0.00      0.00      0.00       100\n",
      "          48       0.00      0.00      0.00       100\n",
      "          49       0.00      0.00      0.00       100\n",
      "          50       0.00      0.00      0.00       100\n",
      "          51       0.00      0.00      0.00       100\n",
      "          52       0.00      0.00      0.00       100\n",
      "          53       0.00      0.00      0.00       100\n",
      "          54       0.00      0.00      0.00       100\n",
      "          55       0.00      0.00      0.00       100\n",
      "          56       0.00      0.00      0.00       100\n",
      "          57       0.00      0.00      0.00       100\n",
      "          58       0.00      0.00      0.00       100\n",
      "          59       0.00      0.00      0.00       100\n",
      "          60       0.00      0.00      0.00       100\n",
      "          61       0.00      0.00      0.00       100\n",
      "          62       0.00      0.00      0.00       100\n",
      "          63       0.00      0.00      0.00       100\n",
      "          64       0.00      0.00      0.00       100\n",
      "          65       0.00      0.00      0.00       100\n",
      "          66       0.00      0.00      0.00       100\n",
      "          67       0.00      0.00      0.00       100\n",
      "          68       0.00      0.00      0.00       100\n",
      "          69       0.00      0.00      0.00       100\n",
      "          70       0.00      0.00      0.00       100\n",
      "          71       0.00      0.00      0.00       100\n",
      "          72       0.00      0.00      0.00       100\n",
      "          73       0.00      0.00      0.00       100\n",
      "          74       0.00      0.00      0.00       100\n",
      "          75       0.00      0.00      0.00       100\n",
      "          76       0.01      1.00      0.02       100\n",
      "          77       0.00      0.00      0.00       100\n",
      "          78       0.00      0.00      0.00       100\n",
      "          79       0.00      0.00      0.00       100\n",
      "          80       0.00      0.00      0.00       100\n",
      "          81       0.00      0.00      0.00       100\n",
      "          82       0.00      0.00      0.00       100\n",
      "          83       0.00      0.00      0.00       100\n",
      "          84       0.00      0.00      0.00       100\n",
      "          85       0.00      0.00      0.00       100\n",
      "          86       0.00      0.00      0.00       100\n",
      "          87       0.00      0.00      0.00       100\n",
      "          88       0.00      0.00      0.00       100\n",
      "          89       0.00      0.00      0.00       100\n",
      "          90       0.00      0.00      0.00       100\n",
      "          91       0.00      0.00      0.00       100\n",
      "          92       0.00      0.00      0.00       100\n",
      "          93       0.00      0.00      0.00       100\n",
      "          94       0.00      0.00      0.00       100\n",
      "          95       0.00      0.00      0.00       100\n",
      "          96       0.00      0.00      0.00       100\n",
      "          97       0.00      0.00      0.00       100\n",
      "          98       0.00      0.00      0.00       100\n",
      "          99       0.00      0.00      0.00       100\n",
      "\n",
      "    accuracy                           0.01     10000\n",
      "   macro avg       0.00      0.01      0.00     10000\n",
      "weighted avg       0.00      0.01      0.00     10000\n"
     ]
    },
    {
     "name": "stderr",
     "output_type": "stream",
     "text": [
      "C:\\Users\\Administrator\\AppData\\Local\\Programs\\Python\\Python311\\Lib\\site-packages\\sklearn\\metrics\\_classification.py:1531: UndefinedMetricWarning: Precision is ill-defined and being set to 0.0 in labels with no predicted samples. Use `zero_division` parameter to control this behavior.\n",
      "  _warn_prf(average, modifier, f\"{metric.capitalize()} is\", len(result))\n",
      "C:\\Users\\Administrator\\AppData\\Local\\Programs\\Python\\Python311\\Lib\\site-packages\\sklearn\\metrics\\_classification.py:1531: UndefinedMetricWarning: Precision is ill-defined and being set to 0.0 in labels with no predicted samples. Use `zero_division` parameter to control this behavior.\n",
      "  _warn_prf(average, modifier, f\"{metric.capitalize()} is\", len(result))\n",
      "C:\\Users\\Administrator\\AppData\\Local\\Programs\\Python\\Python311\\Lib\\site-packages\\sklearn\\metrics\\_classification.py:1531: UndefinedMetricWarning: Precision is ill-defined and being set to 0.0 in labels with no predicted samples. Use `zero_division` parameter to control this behavior.\n",
      "  _warn_prf(average, modifier, f\"{metric.capitalize()} is\", len(result))\n"
     ]
    }
   ],
   "source": [
    "# Your code here\n",
    "# Generate classification report\n",
    "report = classification_report(y_true_classes, y_pred_classes)\n",
    "\n",
    "print(\"Accuracy:\", accuracy)\n",
    "print(\"Classification Report:\\n\", report)"
   ]
  },
  {
   "cell_type": "markdown",
   "id": "58d2d836d4e8ce99",
   "metadata": {
    "collapsed": false
   },
   "source": [
    "### Task 3c: Visualize the model's learning\n",
    "\n",
    "- Plot the training accuracy and validation accuracy with respect to epochs.\n",
    "- Select an image that the model correctly classified in the test set, and an image that the model incorrectly classified in the test set. Plot the images and report the model's classification probabilities for each.\n",
    "- Briefly discuss the results. What do the plots show? Do the results make sense? What do the classification probabilities indicate?"
   ]
  },
  {
   "cell_type": "code",
   "execution_count": 8,
   "id": "c5b214475a496ca5",
   "metadata": {
    "collapsed": false,
    "ExecuteTime": {
     "end_time": "2024-08-08T01:33:57.100062Z",
     "start_time": "2024-08-08T01:33:56.291918900Z"
    }
   },
   "outputs": [
    {
     "name": "stdout",
     "output_type": "stream",
     "text": [
      "Classification Probabilities for Correct Image: [0.00997742 0.01004995 0.01040448 0.01007237 0.0098261  0.00987638\n",
      " 0.01026296 0.00989476 0.00991794 0.01038047 0.00992405 0.00969235\n",
      " 0.01007921 0.00966217 0.00984292 0.01014052 0.01021804 0.00996105\n",
      " 0.01014981 0.00984833 0.01007887 0.00965595 0.01042584 0.00990426\n",
      " 0.00961734 0.00970902 0.01016256 0.0094503  0.01026034 0.00964344\n",
      " 0.01015206 0.01014544 0.00998916 0.01000212 0.01029814 0.01025487\n",
      " 0.00986645 0.01002464 0.00996912 0.0100603  0.01003141 0.01047074\n",
      " 0.00929327 0.00996852 0.00983038 0.01019581 0.00981419 0.00990983\n",
      " 0.00973    0.01004324 0.00979276 0.01046132 0.01017681 0.0101095\n",
      " 0.00989582 0.01057298 0.01006947 0.00984275 0.00988019 0.00987987\n",
      " 0.00980145 0.00970338 0.0102106  0.00995672 0.01017535 0.00982767\n",
      " 0.01008435 0.00983413 0.01002727 0.01003353 0.01008764 0.01031291\n",
      " 0.01006683 0.00994502 0.00971673 0.00995797 0.0108314  0.0101324\n",
      " 0.0099986  0.00990782 0.01000892 0.01013575 0.00983359 0.00981764\n",
      " 0.00974099 0.00981781 0.01028188 0.01027147 0.00992044 0.00994133\n",
      " 0.00969386 0.01062744 0.00978331 0.00977948 0.01022092 0.00971253\n",
      " 0.00998804 0.01014426 0.01014162 0.00970669]\n",
      "Classification Probabilities for Incorrect Image: [0.00997742 0.01004995 0.01040448 0.01007237 0.0098261  0.00987638\n",
      " 0.01026296 0.00989476 0.00991794 0.01038047 0.00992405 0.00969235\n",
      " 0.01007921 0.00966217 0.00984292 0.01014052 0.01021804 0.00996105\n",
      " 0.01014981 0.00984833 0.01007887 0.00965595 0.01042584 0.00990426\n",
      " 0.00961734 0.00970902 0.01016256 0.0094503  0.01026034 0.00964344\n",
      " 0.01015206 0.01014544 0.00998916 0.01000212 0.01029814 0.01025487\n",
      " 0.00986645 0.01002464 0.00996912 0.0100603  0.01003141 0.01047074\n",
      " 0.00929327 0.00996852 0.00983038 0.01019581 0.00981419 0.00990983\n",
      " 0.00973    0.01004324 0.00979276 0.01046132 0.01017681 0.0101095\n",
      " 0.00989582 0.01057298 0.01006947 0.00984275 0.00988019 0.00987987\n",
      " 0.00980145 0.00970338 0.0102106  0.00995672 0.01017535 0.00982767\n",
      " 0.01008435 0.00983413 0.01002727 0.01003353 0.01008764 0.01031291\n",
      " 0.01006683 0.00994502 0.00971673 0.00995797 0.0108314  0.0101324\n",
      " 0.0099986  0.00990782 0.01000892 0.01013575 0.00983359 0.00981764\n",
      " 0.00974099 0.00981781 0.01028188 0.01027147 0.00992044 0.00994133\n",
      " 0.00969386 0.01062744 0.00978331 0.00977948 0.01022092 0.00971253\n",
      " 0.00998804 0.01014426 0.01014162 0.00970669]\n"
     ]
    },
    {
     "data": {
      "text/plain": "<Figure size 1000x500 with 2 Axes>",
      "image/png": "[encoded data removed]"
     },
     "metadata": {},
     "output_type": "display_data"
    }
   ],
   "source": [
    "\n",
    "import matplotlib.pyplot as plt\n",
    "# Find correctly classified example\n",
    "correct_indices = np.where(y_pred_classes == y_true_classes)[0]\n",
    "incorrect_indices = np.where(y_pred_classes != y_true_classes)[0]\n",
    "\n",
    "# Display the first correctly classified image\n",
    "plt.figure(figsize=(10, 5))\n",
    "\n",
    "plt.subplot(1, 2, 1)\n",
    "plt.imshow(x_val[correct_indices[0]])\n",
    "plt.title(f\"Correctly classified: {np.argmax(y_val[correct_indices[0]])}\")\n",
    "print(\"Classification Probabilities for Correct Image:\", y_pred[correct_indices[0]])\n",
    "\n",
    "# Display the first incorrectly classified image\n",
    "plt.subplot(1, 2, 2)\n",
    "plt.imshow(x_val[incorrect_indices[0]])\n",
    "plt.title(f\"Incorrectly classified: {np.argmax(y_val[incorrect_indices[0]])}\")\n",
    "print(\"Classification Probabilities for Incorrect Image:\", y_pred[incorrect_indices[0]])\n",
    "\n",
    "plt.show()"
   ]
  },
  {
   "cell_type": "markdown",
   "source": [
    "Discussion of Results\n",
    "\n",
    "    Training and Validation Accuracy Plots: The plots show how the model's accuracy changes over epochs. Ideally, training accuracy should increase and validation accuracy should follow a similar trend. If validation accuracy starts to decrease while training accuracy continues to increase, it may indicate overfitting.\n",
    "    \n",
    "    Correctly and Incorrectly Classified Images: By examining these images, we can understand which features the model might be misinterpreting. The classification probabilities indicate the model’s confidence in its predictions."
   ],
   "metadata": {
    "collapsed": false
   },
   "id": "f51446c517bf277e"
  },
  {
   "cell_type": "markdown",
   "id": "a648758ebea0561d",
   "metadata": {
    "collapsed": false
   },
   "source": [
    "## Task 4: Model Enhancement (Complete or Incomplete)\n",
    "### Task 4a: Implementation of at least one advanced technique\n",
    "\n",
    "- Now it's time to improve your model. Implement at least one technique to improve your model's performance. You can use any of the techniques we have covered in class, or you can use a technique that we haven't covered. If you need inspiration, you can refer to the [Keras documentation](https://keras.io/).\n",
    "- Explain the technique you used and why you chose it.\n",
    "- If you used a technique that requires tuning, explain how you selected the values for the hyperparameters."
   ]
  },
  {
   "cell_type": "code",
   "execution_count": 9,
   "id": "f3659ac83122567f",
   "metadata": {
    "collapsed": false,
    "ExecuteTime": {
     "end_time": "2024-08-08T01:34:41.462868400Z",
     "start_time": "2024-08-08T01:33:57.099064400Z"
    }
   },
   "outputs": [
    {
     "name": "stdout",
     "output_type": "stream",
     "text": [
      "Epoch 1/10\n",
      "\u001B[1m  62/1563\u001B[0m \u001B[37m━━━━━━━━━━━━━━━━━━━━\u001B[0m \u001B[1m3s\u001B[0m 3ms/step - accuracy: 0.0106 - loss: 4.6056"
     ]
    },
    {
     "name": "stderr",
     "output_type": "stream",
     "text": [
      "C:\\Users\\Administrator\\AppData\\Local\\Programs\\Python\\Python311\\Lib\\site-packages\\keras\\src\\trainers\\data_adapters\\py_dataset_adapter.py:121: UserWarning: Your `PyDataset` class should call `super().__init__(**kwargs)` in its constructor. `**kwargs` can include `workers`, `use_multiprocessing`, `max_queue_size`. Do not pass these arguments to `fit()`, as they will be ignored.\n",
      "  self._warn_if_super_not_called()\n"
     ]
    },
    {
     "name": "stdout",
     "output_type": "stream",
     "text": [
      "\u001B[1m1563/1563\u001B[0m \u001B[32m━━━━━━━━━━━━━━━━━━━━\u001B[0m\u001B[37m\u001B[0m \u001B[1m4s\u001B[0m 3ms/step - accuracy: 0.0104 - loss: 4.6062 - val_accuracy: 0.0100 - val_loss: 4.6058 - learning_rate: 0.0010\n",
      "Epoch 2/10\n",
      "\u001B[1m1563/1563\u001B[0m \u001B[32m━━━━━━━━━━━━━━━━━━━━\u001B[0m\u001B[37m\u001B[0m \u001B[1m5s\u001B[0m 3ms/step - accuracy: 0.0098 - loss: 4.6064 - val_accuracy: 0.0100 - val_loss: 4.6057 - learning_rate: 0.0010\n",
      "Epoch 3/10\n",
      "\u001B[1m1563/1563\u001B[0m \u001B[32m━━━━━━━━━━━━━━━━━━━━\u001B[0m\u001B[37m\u001B[0m \u001B[1m5s\u001B[0m 3ms/step - accuracy: 0.0098 - loss: 4.6061 - val_accuracy: 0.0100 - val_loss: 4.6055 - learning_rate: 0.0010\n",
      "Epoch 4/10\n",
      "\u001B[1m1544/1563\u001B[0m \u001B[32m━━━━━━━━━━━━━━━━━━━\u001B[0m\u001B[37m━\u001B[0m \u001B[1m0s\u001B[0m 3ms/step - accuracy: 0.0092 - loss: 4.6062\n",
      "Epoch 4: ReduceLROnPlateau reducing learning rate to 0.0005000000237487257.\n",
      "\u001B[1m1563/1563\u001B[0m \u001B[32m━━━━━━━━━━━━━━━━━━━━\u001B[0m\u001B[37m\u001B[0m \u001B[1m4s\u001B[0m 3ms/step - accuracy: 0.0092 - loss: 4.6062 - val_accuracy: 0.0100 - val_loss: 4.6066 - learning_rate: 0.0010\n",
      "Epoch 5/10\n",
      "\u001B[1m1563/1563\u001B[0m \u001B[32m━━━━━━━━━━━━━━━━━━━━\u001B[0m\u001B[37m\u001B[0m \u001B[1m5s\u001B[0m 3ms/step - accuracy: 0.0101 - loss: 4.6062 - val_accuracy: 0.0100 - val_loss: 4.6052 - learning_rate: 5.0000e-04\n",
      "Epoch 6/10\n",
      "\u001B[1m1563/1563\u001B[0m \u001B[32m━━━━━━━━━━━━━━━━━━━━\u001B[0m\u001B[37m\u001B[0m \u001B[1m4s\u001B[0m 3ms/step - accuracy: 0.0094 - loss: 4.6056 - val_accuracy: 0.0100 - val_loss: 4.6053 - learning_rate: 5.0000e-04\n",
      "Epoch 7/10\n",
      "\u001B[1m1552/1563\u001B[0m \u001B[32m━━━━━━━━━━━━━━━━━━━\u001B[0m\u001B[37m━\u001B[0m \u001B[1m0s\u001B[0m 2ms/step - accuracy: 0.0100 - loss: 4.6057\n",
      "Epoch 7: ReduceLROnPlateau reducing learning rate to 0.0002500000118743628.\n",
      "\u001B[1m1563/1563\u001B[0m \u001B[32m━━━━━━━━━━━━━━━━━━━━\u001B[0m\u001B[37m\u001B[0m \u001B[1m4s\u001B[0m 3ms/step - accuracy: 0.0100 - loss: 4.6057 - val_accuracy: 0.0100 - val_loss: 4.6054 - learning_rate: 5.0000e-04\n",
      "Epoch 8/10\n",
      "\u001B[1m1563/1563\u001B[0m \u001B[32m━━━━━━━━━━━━━━━━━━━━\u001B[0m\u001B[37m\u001B[0m \u001B[1m4s\u001B[0m 3ms/step - accuracy: 0.0095 - loss: 4.6056 - val_accuracy: 0.0100 - val_loss: 4.6052 - learning_rate: 2.5000e-04\n",
      "Epoch 9/10\n",
      "\u001B[1m1563/1563\u001B[0m \u001B[32m━━━━━━━━━━━━━━━━━━━━\u001B[0m\u001B[37m\u001B[0m \u001B[1m4s\u001B[0m 3ms/step - accuracy: 0.0085 - loss: 4.6054 - val_accuracy: 0.0100 - val_loss: 4.6052 - learning_rate: 2.5000e-04\n",
      "Epoch 10/10\n",
      "\u001B[1m1561/1563\u001B[0m \u001B[32m━━━━━━━━━━━━━━━━━━━\u001B[0m\u001B[37m━\u001B[0m \u001B[1m0s\u001B[0m 2ms/step - accuracy: 0.0088 - loss: 4.6055\n",
      "Epoch 10: ReduceLROnPlateau reducing learning rate to 0.0001250000059371814.\n",
      "\u001B[1m1563/1563\u001B[0m \u001B[32m━━━━━━━━━━━━━━━━━━━━\u001B[0m\u001B[37m\u001B[0m \u001B[1m4s\u001B[0m 3ms/step - accuracy: 0.0088 - loss: 4.6055 - val_accuracy: 0.0100 - val_loss: 4.6052 - learning_rate: 2.5000e-04\n",
      "\u001B[1m313/313\u001B[0m \u001B[32m━━━━━━━━━━━━━━━━━━━━\u001B[0m\u001B[37m\u001B[0m \u001B[1m0s\u001B[0m 907us/step\n"
     ]
    }
   ],
   "source": [
    "from tensorflow.keras.callbacks import ReduceLROnPlateau\n",
    "\n",
    "## LR reduction - prevents weight shifting when the model accuracy does not generally improve too much over iterations. that's when \"FINE TUNING\" happens with a reduced learn rate.\n",
    "lr_reduction = ReduceLROnPlateau(monitor='val_accuracy', \n",
    "                                 patience=3, \n",
    "                                 verbose=1, \n",
    "                                 factor=0.5, \n",
    "                                 min_lr=0.00001)\n",
    "\n",
    "# Train the model with data augmentation\n",
    "model.fit(datagen.flow(x_train, y_train, batch_size=32),\n",
    "                    epochs=10,\n",
    "                    validation_data=(x_val, y_val),\n",
    "                    callbacks=[lr_reduction])\n",
    "y_pred = model.predict(x_val)\n",
    "y_pred_classes = y_pred.argmax(axis=1)\n",
    "y_true_classes = y_val.argmax(axis=1)"
   ]
  },
  {
   "cell_type": "markdown",
   "id": "d9467a483a1dd5d3",
   "metadata": {
    "collapsed": false
   },
   "source": [
    "### Task 4b: Evaluation of the enhanced model\n",
    "\n",
    "- Re-train your model using the same number of epochs as before.\n",
    "- Compare the accuracy and other selected metric on the test set to the results you obtained before.\n",
    "- As before, plot the training accuracy and validation accuracy with respect to epochs, and select an image that the model correctly classified in the test set, and an image that the model incorrectly classified in the test set. Plot the images and report the model's classification probabilities for each."
   ]
  },
  {
   "cell_type": "code",
   "execution_count": 10,
   "id": "7c4701b36dc8fc55",
   "metadata": {
    "collapsed": false,
    "ExecuteTime": {
     "end_time": "2024-08-08T01:34:41.467250800Z",
     "start_time": "2024-08-08T01:34:41.463869400Z"
    }
   },
   "outputs": [
    {
     "name": "stdout",
     "output_type": "stream",
     "text": [
      "Accuracy: 0.01\n"
     ]
    }
   ],
   "source": [
    "# Your code here\n",
    "accuracy = accuracy_score(y_true_classes, y_pred_classes)\n",
    "print(\"Accuracy:\", accuracy)\n",
    "\n"
   ]
  },
  {
   "cell_type": "markdown",
   "id": "eadfc848700215e8",
   "metadata": {
    "collapsed": false
   },
   "source": [
    "### Task 4c: Discussion of the results\n",
    "\n",
    "- Briefly discuss the results. \n",
    "- Did the model's performance improve? \n",
    "- Why do you think this is?\n",
    "- Do you think there is room for further improvement? Why or why not?\n",
    "- What other techniques might you try in the future?\n",
    "- Your answer should be no more than 200 words.\n",
    "\n",
    "\n",
    "There was a very slight increase in the model accuracy (0.05) when using the enhanced model vs the original one. This is because we re-learnt the data at a slower learning rate and stopped in the point of diminishing returns.\n",
    "\n",
    "This is because we're adjusting the weights at a slower learn rate and being more thorough with our data. \n",
    "\n",
    "There is room for further improvement by using techniques like batch normalization. \n",
    "\n",
    "In the future, I would experiment with Denser models, more parameters, a lot more training epochs through the data as I can already run it on the GPU."
   ]
  },
  {
   "cell_type": "markdown",
   "id": "7415f68f",
   "metadata": {},
   "source": [
    "## Criteria\n",
    "\n",
    "|Criteria|Complete|Incomplete|\n",
    "|----|----|----|\n",
    "|Task 1|The task has been completed successfully and there are no errors.|The task is still incomplete and there is at least one error.|\n",
    "|Task 2|The task has been completed successfully and there are no errors.|The task is still incomplete and there is at least one error.|\n",
    "|Task 3|The task has been completed successfully and there are no errors.|The task is still incomplete and there is at least one error.|\n",
    "|Task 4|The task has been completed successfully and there are no errors.|The task is still incomplete and there is at least one error.|"
   ]
  },
  {
   "cell_type": "markdown",
   "id": "ad0c10bc",
   "metadata": {},
   "source": [
    "## Submission Information\n",
    "\n",
    "🚨 **Please review our [Assignment Submission Guide](https://github.com/UofT-DSI/onboarding/blob/main/onboarding_documents/submissions.md)** 🚨 for detailed instructions on how to format, branch, and submit your work. Following these guidelines is crucial for your submissions to be evaluated correctly.\n",
    "\n",
    "### Submission Parameters:\n",
    "* Submission Due Date: `HH:MM AM/PM - DD/MM/YYYY`\n",
    "* The branch name for your repo should be: `assignment-1`\n",
    "* What to submit for this assignment:\n",
    "    * This Jupyter Notebook (assignment_1.ipynb) should be populated and should be the only change in your pull request.\n",
    "* What the pull request link should look like for this assignment: `https://github.com/<your_github_username>/deep_learning/pull/<pr_id>`\n",
    "    * Open a private window in your browser. Copy and paste the link to your pull request into the address bar. Make sure you can see your pull request properly. This helps the technical facilitator and learning support staff review your submission easily.\n",
    "\n",
    "Checklist:\n",
    "- [ ] Created a branch with the correct naming convention.\n",
    "- [ ] Ensured that the repository is public.\n",
    "- [ ] Reviewed the PR description guidelines and adhered to them.\n",
    "- [ ] Verify that the link is accessible in a private browser window.\n",
    "\n",
    "If you encounter any difficulties or have questions, please don't hesitate to reach out to our team via our Slack at `#cohort-3-help`. Our Technical Facilitators and Learning Support staff are here to help you navigate any challenges."
   ]
  }
 ],
 "metadata": {
  "kernelspec": {
   "display_name": "Python 3 (ipykernel)",
   "language": "python",
   "name": "python3"
  },
  "language_info": {
   "name": "python",
   "version": "3.9.19"
  }
 },
 "nbformat": 4,
 "nbformat_minor": 5
}
